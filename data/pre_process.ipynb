{
 "cells": [
  {
   "cell_type": "code",
   "execution_count": 53,
   "metadata": {},
   "outputs": [],
   "source": [
    "import pandas as pd\n",
    "from sklearn.preprocessing import StandardScaler\n",
    "from sklearn.model_selection import train_test_split\n",
    "import numpy as np"
   ]
  },
  {
   "cell_type": "code",
   "execution_count": 46,
   "metadata": {},
   "outputs": [
    {
     "data": {
      "text/plain": [
       "array([[94.464, 94.745, 94.323, 94.476],\n",
       "       [94.745, 94.783, 94.39, 94.714],\n",
       "       [94.51, 94.641, 94.22, 94.495],\n",
       "       ...,\n",
       "       [118.685, 118.758, 115.619, 118.685],\n",
       "       [116.55, 116.959, 115.735, 116.793],\n",
       "       [116.211, 116.95, 115.949, 116.878]], dtype=object)"
      ]
     },
     "execution_count": 46,
     "metadata": {},
     "output_type": "execute_result"
    }
   ],
   "source": [
    "# read data, drop the first column (datetime)\n",
    "df = pd.read_csv('./raw_data/CAD_JPY.csv')\n",
    "df = df.to_numpy()[:,1:]\n",
    "df"
   ]
  },
  {
   "cell_type": "code",
   "execution_count": 63,
   "metadata": {},
   "outputs": [
    {
     "data": {
      "text/plain": [
       "array([-1, 1, 0, ..., 1, 0, 1], dtype=object)"
      ]
     },
     "execution_count": 63,
     "metadata": {},
     "output_type": "execute_result"
    }
   ],
   "source": [
    "# create label\n",
    "label = df[1:,-1] - df[:-1,-1]\n",
    "label[label > 0] = 1\n",
    "label[label <= 0] = 0\n",
    "label = np.append([-1], label) # the first value is assigned to -1, it's removed anyway\n",
    "label"
   ]
  },
  {
   "cell_type": "code",
   "execution_count": 66,
   "metadata": {},
   "outputs": [
    {
     "data": {
      "text/plain": [
       "array([[94.464, 94.745, 94.323, 94.476, -1],\n",
       "       [94.745, 94.783, 94.39, 94.714, 1],\n",
       "       [94.51, 94.641, 94.22, 94.495, 0],\n",
       "       [94.619, 94.656, 94.12, 94.623, 1],\n",
       "       [94.01, 94.547, 93.993, 94.03, 0],\n",
       "       [94.343, 94.401, 94.18, 94.346, 1],\n",
       "       [94.425, 94.56, 94.39, 94.43, 1],\n",
       "       [94.466, 94.64, 94.425, 94.48, 1],\n",
       "       [94.579, 94.886, 94.427, 94.584, 1],\n",
       "       [94.697, 94.752, 94.126, 94.703, 1],\n",
       "       [94.11, 94.296, 94.07, 94.093, 0],\n",
       "       [94.287, 94.381, 94.05, 94.26, 1],\n",
       "       [94.047, 94.348, 93.985, 94.054, 0],\n",
       "       [94.25, 94.47, 94.125, 94.254, 1],\n",
       "       [94.222, 94.307, 93.81, 94.194, 0]], dtype=object)"
      ]
     },
     "execution_count": 66,
     "metadata": {},
     "output_type": "execute_result"
    }
   ],
   "source": [
    "np.hstack([df, label.reshape(-1,1)])[:15]"
   ]
  },
  {
   "cell_type": "code",
   "execution_count": 71,
   "metadata": {},
   "outputs": [
    {
     "data": {
      "text/plain": [
       "array([[0.35381126, 0.34433509, 0.37924773, 0.35499991],\n",
       "       [0.38153736, 0.34807352, 0.38587976, 0.37848016],\n",
       "       [0.35835005, 0.33410359, 0.36905221, 0.35687438],\n",
       "       [0.36910501, 0.33557929, 0.35915365, 0.36950242],\n",
       "       [0.30901536, 0.32485589, 0.34658248, 0.31099911],\n",
       "       [0.34187227, 0.31049244, 0.36509279, 0.34217457],\n",
       "       [0.34996315, 0.32613483, 0.38587976, 0.35046171],\n",
       "       [0.3540086 , 0.33400521, 0.38934426, 0.35539454],\n",
       "       [0.36515824, 0.35820664, 0.38954223, 0.36565481],\n",
       "       [0.37680123, 0.34502375, 0.35974757, 0.37739494],\n",
       "       [0.3188823 , 0.30016256, 0.35420437, 0.31721447],\n",
       "       [0.33634678, 0.30852485, 0.35222466, 0.33369011],\n",
       "       [0.31266613, 0.30527831, 0.3457906 , 0.31336687],\n",
       "       [0.33269601, 0.31728065, 0.35964858, 0.33309817],\n",
       "       [0.32993327, 0.30124474, 0.32846812, 0.32717878]])"
      ]
     },
     "execution_count": 71,
     "metadata": {},
     "output_type": "execute_result"
    }
   ],
   "source": [
    "# normalize data\n",
    "scaler = StandardScaler()\n",
    "transformed_df = scaler.fit_transform(df)\n",
    "transformed_df[:15]"
   ]
  },
  {
   "cell_type": "code",
   "execution_count": 73,
   "metadata": {},
   "outputs": [
    {
     "data": {
      "text/plain": [
       "((2605, 3, 4), (2605,))"
      ]
     },
     "execution_count": 73,
     "metadata": {},
     "output_type": "execute_result"
    }
   ],
   "source": [
    "look_back = 3\n",
    "\n",
    "size = transformed_df.shape[0] - look_back\n",
    "X = np.array([transformed_df[i : i + look_back] for i in range(size)])\n",
    "y = label[look_back:]\n",
    "\n",
    "X.shape, y.shape"
   ]
  },
  {
   "cell_type": "code",
   "execution_count": 74,
   "metadata": {},
   "outputs": [
    {
     "data": {
      "text/plain": [
       "((521, 3, 4), (2084, 3, 4), (521,), (2084,))"
      ]
     },
     "execution_count": 74,
     "metadata": {},
     "output_type": "execute_result"
    }
   ],
   "source": [
    "support_X, query_X, support_y, query_y = train_test_split(X, y, test_size=0.8, shuffle=False)\n",
    "support_X.shape, query_X.shape, support_y.shape, query_y.shape"
   ]
  },
  {
   "cell_type": "code",
   "execution_count": 77,
   "metadata": {},
   "outputs": [],
   "source": [
    "import sys\n",
    "sys.path.append('../')\n",
    "\n",
    "from data.pre_process import get_data\n",
    "\n",
    "data_dict = get_data(look_back=3)"
   ]
  },
  {
   "cell_type": "code",
   "execution_count": 85,
   "metadata": {},
   "outputs": [
    {
     "data": {
      "text/plain": [
       "array([[[-1.32713027, -1.3220764 , -1.29169358, -1.28314868],\n",
       "        [-1.28457718, -1.32489435, -1.39372517, -1.38089986],\n",
       "        [-1.38457694, -1.40802392, -1.48005959, -1.4779427 ]],\n",
       "\n",
       "       [[-1.28457718, -1.32489435, -1.39372517, -1.38089986],\n",
       "        [-1.38457694, -1.40802392, -1.48005959, -1.4779427 ],\n",
       "        [-1.48741357, -1.50031182, -1.47292451, -1.48573446]],\n",
       "\n",
       "       [[-1.38457694, -1.40802392, -1.48005959, -1.4779427 ],\n",
       "        [-1.48741357, -1.50031182, -1.47292451, -1.48573446],\n",
       "        [-1.48670435, -1.48833553, -1.46008137, -1.49352622]],\n",
       "\n",
       "       [[-1.48741357, -1.50031182, -1.47292451, -1.48573446],\n",
       "        [-1.48670435, -1.48833553, -1.46008137, -1.49352622],\n",
       "        [-1.49521497, -1.51792402, -1.48576765, -1.49069286]]])"
      ]
     },
     "execution_count": 85,
     "metadata": {},
     "output_type": "execute_result"
    }
   ],
   "source": [
    "data_dict[0]['support_X'][:4]"
   ]
  },
  {
   "cell_type": "code",
   "execution_count": 84,
   "metadata": {},
   "outputs": [
    {
     "data": {
      "text/plain": [
       "array([0., 0., 1.])"
      ]
     },
     "execution_count": 84,
     "metadata": {},
     "output_type": "execute_result"
    }
   ],
   "source": [
    "data_dict[0]['support_y'][:3]"
   ]
  }
 ],
 "metadata": {
  "kernelspec": {
   "display_name": "fx_env",
   "language": "python",
   "name": "python3"
  },
  "language_info": {
   "codemirror_mode": {
    "name": "ipython",
    "version": 3
   },
   "file_extension": ".py",
   "mimetype": "text/x-python",
   "name": "python",
   "nbconvert_exporter": "python",
   "pygments_lexer": "ipython3",
   "version": "3.11.8"
  }
 },
 "nbformat": 4,
 "nbformat_minor": 2
}
